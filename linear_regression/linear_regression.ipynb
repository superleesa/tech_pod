{
 "cells": [
  {
   "cell_type": "markdown",
   "id": "d0f4daea",
   "metadata": {},
   "source": [
    "# Linear Regression"
   ]
  },
  {
   "cell_type": "code",
   "execution_count": 113,
   "id": "500b3e70",
   "metadata": {},
   "outputs": [],
   "source": [
    "import numpy as np\n",
    "import pandas as pd\n",
    "\n",
    "from sklearn.datasets import make_regression\n",
    "import matplotlib.pyplot as plt\n",
    "from sklearn.model_selection import train_test_split\n",
    "from sklearn.metrics import mean_squared_error"
   ]
  },
  {
   "cell_type": "markdown",
   "id": "1835bbe5",
   "metadata": {},
   "source": [
    "## Implementing the Linear Regression Model"
   ]
  },
  {
   "cell_type": "code",
   "execution_count": 101,
   "id": "5351fc70",
   "metadata": {},
   "outputs": [],
   "source": [
    "class IterativeLinearRegression:\n",
    "    def __init__(self, lr=0.001, max_iters=40000, mini_batch_size=None, eps=0.1) -> None:\n",
    "        self.lr = lr\n",
    "        self.eps = eps\n",
    "        self.max_iters = max_iters\n",
    "        \n",
    "        if mini_batch_size == 0:\n",
    "            raise ValueError(\"mini batch size cannot be 0\")\n",
    "        else:\n",
    "            self.mini_batch_size = mini_batch_size\n",
    "        \n",
    "        self.params = None\n",
    "        \n",
    "        \n",
    "    def fit(self, X: np.array, y: np.array) -> None:\n",
    "        # initialize w and X_til\n",
    "        X_til =  np.c_[np.ones(len(X)), X]\n",
    "        w = np.zeros(X_til.shape[1])\n",
    "        \n",
    "        if self.mini_batch_size is None and len(X) > 500:\n",
    "            self.mini_batch_size = len(X) // 5\n",
    "        \n",
    "        # SGD\n",
    "        X_mini, y_mini = X_til, y\n",
    "        for _ in range(self.max_iters):\n",
    "            # select a mini batch \n",
    "            if self.mini_batch_size is not None:\n",
    "                indices = np.random.choice(len(X_til), self.mini_batch_size)\n",
    "                X_mini = X_til[indices]\n",
    "                y_mini = y[indices]\n",
    "            \n",
    "            \n",
    "            grad = self.get_grad(w, X_mini, y_mini)\n",
    "            \n",
    "            if self.magnitude(grad) < self.eps:\n",
    "                break\n",
    "                \n",
    "            w -= self.lr * grad\n",
    "            \n",
    "            if np.nan in w:\n",
    "                raise ValueError(\"Nan in at least one of the parameters\")\n",
    "        \n",
    "        self.params = w\n",
    "    \n",
    "    def predict(self, X: np.array) -> np.array:\n",
    "        return np.c_[np.ones(len(X)), X] @ self.params\n",
    "    \n",
    "    def get_grad(self, w, X_til, y) -> np.array:\n",
    "        return 2*X_til.T@(X_til@w - y)\n",
    "        \n",
    "    def magnitude(self, v) -> np.array:\n",
    "        # euclidean norm\n",
    "        return np.sqrt(np.sum(v**2))"
   ]
  },
  {
   "cell_type": "markdown",
   "id": "d6c4d40e",
   "metadata": {},
   "source": [
    "# Generating a toy data"
   ]
  },
  {
   "cell_type": "code",
   "execution_count": 102,
   "id": "147e63f1",
   "metadata": {},
   "outputs": [],
   "source": [
    "X, y, coef = make_regression(n_samples=200, n_features=1, noise=10, bias=1, coef=True, random_state=0)"
   ]
  },
  {
   "cell_type": "code",
   "execution_count": 103,
   "id": "be13d906",
   "metadata": {},
   "outputs": [
    {
     "data": {
      "text/plain": [
       "array(96.19363785)"
      ]
     },
     "execution_count": 103,
     "metadata": {},
     "output_type": "execute_result"
    }
   ],
   "source": [
    "coef"
   ]
  },
  {
   "cell_type": "code",
   "execution_count": 104,
   "id": "3fc22424",
   "metadata": {
    "scrolled": true
   },
   "outputs": [
    {
     "data": {
      "text/plain": [
       "<matplotlib.collections.PathCollection at 0x1edabf79880>"
      ]
     },
     "execution_count": 104,
     "metadata": {},
     "output_type": "execute_result"
    },
    {
     "data": {
      "image/png": "[encoded data removed]",
      "text/plain": [
       "<Figure size 640x480 with 1 Axes>"
      ]
     },
     "metadata": {},
     "output_type": "display_data"
    }
   ],
   "source": [
    "plt.scatter(X,y)"
   ]
  },
  {
   "cell_type": "markdown",
   "id": "9a02537c",
   "metadata": {},
   "source": [
    "# Train the model using the toy data"
   ]
  },
  {
   "cell_type": "code",
   "execution_count": 108,
   "id": "1fe9ab5c",
   "metadata": {},
   "outputs": [],
   "source": [
    "X_train, X_test, y_train, y_test = train_test_split(X, y, random_state=0)"
   ]
  },
  {
   "cell_type": "code",
   "execution_count": 109,
   "id": "1d8c2188",
   "metadata": {},
   "outputs": [],
   "source": [
    "model = IterativeLinearRegression(lr=0.001)\n",
    "model.fit(X_train, y_train)"
   ]
  },
  {
   "cell_type": "markdown",
   "id": "e0fce579",
   "metadata": {},
   "source": [
    "# Predicting on the testing data"
   ]
  },
  {
   "cell_type": "code",
   "execution_count": 110,
   "id": "86b455d8",
   "metadata": {},
   "outputs": [
    {
     "data": {
      "text/plain": [
       "array([-0.6446956 , 96.60801107])"
      ]
     },
     "execution_count": 110,
     "metadata": {},
     "output_type": "execute_result"
    }
   ],
   "source": [
    "model.params"
   ]
  },
  {
   "cell_type": "markdown",
   "id": "e4e6c90d",
   "metadata": {},
   "source": [
    "It seems that there are quite large error of 81 units."
   ]
  },
  {
   "cell_type": "code",
   "execution_count": 114,
   "id": "9f79ea69",
   "metadata": {},
   "outputs": [
    {
     "data": {
      "text/plain": [
       "81.44124106596217"
      ]
     },
     "execution_count": 114,
     "metadata": {},
     "output_type": "execute_result"
    }
   ],
   "source": [
    "y_pred = model.predict(X_test)\n",
    "mean_squared_error(y_test, y_pred)"
   ]
  },
  {
   "cell_type": "markdown",
   "id": "9d81f7e3",
   "metadata": {},
   "source": [
    "However, if we plot the predicted and true data, we can actually see that our model is not too bad."
   ]
  },
  {
   "cell_type": "code",
   "execution_count": 115,
   "id": "8bc181ab",
   "metadata": {},
   "outputs": [
    {
     "data": {
      "text/plain": [
       "<matplotlib.collections.PathCollection at 0x1edac0c0490>"
      ]
     },
     "execution_count": 115,
     "metadata": {},
     "output_type": "execute_result"
    },
    {
     "data": {
      "image/png": "[encoded data removed]",
      "text/plain": [
       "<Figure size 640x480 with 1 Axes>"
      ]
     },
     "metadata": {},
     "output_type": "display_data"
    }
   ],
   "source": [
    "plt.scatter(X_test,y_test)\n",
    "# plt.plot(np.linspace(-3, 2.5), [model.params[0] + x*model.params[1] for x in np.linspace(-3, 2.5)], c=\"red\")\n",
    "plt.scatter(X_test, y_pred)"
   ]
  },
  {
   "cell_type": "code",
   "execution_count": null,
   "id": "ba4eb6a4",
   "metadata": {},
   "outputs": [],
   "source": []
  }
 ],
 "metadata": {
  "kernelspec": {
   "display_name": "Python 3 (ipykernel)",
   "language": "python",
   "name": "python3"
  },
  "language_info": {
   "codemirror_mode": {
    "name": "ipython",
    "version": 3
   },
   "file_extension": ".py",
   "mimetype": "text/x-python",
   "name": "python",
   "nbconvert_exporter": "python",
   "pygments_lexer": "ipython3",
   "version": "3.9.13"
  }
 },
 "nbformat": 4,
 "nbformat_minor": 5
}
